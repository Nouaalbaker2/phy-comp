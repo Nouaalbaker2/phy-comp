{
  "nbformat": 4,
  "nbformat_minor": 0,
  "metadata": {
    "colab": {
      "provenance": []
    },
    "kernelspec": {
      "name": "python3",
      "display_name": "Python 3"
    },
    "language_info": {
      "name": "python"
    }
  },
  "cells": [
    {
      "cell_type": "markdown",
      "source": [
        "Inertial Balance exp"
      ],
      "metadata": {
        "id": "P3J7Uai7ZXKB"
      }
    },
    {
      "cell_type": "markdown",
      "source": [
        "Noura Albaker- Farah Alsardi - Fatima Albinali"
      ],
      "metadata": {
        "id": "u2OtcXNfaLjd"
      }
    },
    {
      "cell_type": "code",
      "execution_count": null,
      "metadata": {
        "colab": {
          "base_uri": "https://localhost:8080/"
        },
        "id": "cLcxmWjAXJ9z",
        "outputId": "bc2a2955-7126-43e7-804d-5b959d16f58d"
      },
      "outputs": [
        {
          "output_type": "stream",
          "name": "stdout",
          "text": [
            "    mg   t10\n",
            "0  500  6.07\n",
            "1  200  4.54\n",
            "2  300  4.88\n",
            "3  600  7.06\n",
            "4  150  3.72\n",
            "5  400  5.25\n"
          ]
        }
      ],
      "source": [
        "#Table 1\n",
        "import matplotlib.pyplot as plt\n",
        "import pandas as pd\n",
        "data={'mg':[500,200,300,600,150,400],'t10':[6.07,4.54,4.88,7.06,3.72,5.25]} \n",
        "df=pd.DataFrame(data)\n",
        "print(df)"
      ]
    },
    {
      "cell_type": "code",
      "source": [
        "df"
      ],
      "metadata": {
        "colab": {
          "base_uri": "https://localhost:8080/",
          "height": 238
        },
        "id": "Tdht3OtpXaPg",
        "outputId": "61132769-3f54-4adb-93eb-99708f0975d1"
      },
      "execution_count": null,
      "outputs": [
        {
          "output_type": "execute_result",
          "data": {
            "text/plain": [
              "    mg   t10\n",
              "0  500  6.07\n",
              "1  200  4.54\n",
              "2  300  4.88\n",
              "3  600  7.06\n",
              "4  150  3.72\n",
              "5  400  5.25"
            ],
            "text/html": [
              "\n",
              "  <div id=\"df-4eebc15b-bb59-4c94-bb66-e4fb9e571fa1\">\n",
              "    <div class=\"colab-df-container\">\n",
              "      <div>\n",
              "<style scoped>\n",
              "    .dataframe tbody tr th:only-of-type {\n",
              "        vertical-align: middle;\n",
              "    }\n",
              "\n",
              "    .dataframe tbody tr th {\n",
              "        vertical-align: top;\n",
              "    }\n",
              "\n",
              "    .dataframe thead th {\n",
              "        text-align: right;\n",
              "    }\n",
              "</style>\n",
              "<table border=\"1\" class=\"dataframe\">\n",
              "  <thead>\n",
              "    <tr style=\"text-align: right;\">\n",
              "      <th></th>\n",
              "      <th>mg</th>\n",
              "      <th>t10</th>\n",
              "    </tr>\n",
              "  </thead>\n",
              "  <tbody>\n",
              "    <tr>\n",
              "      <th>0</th>\n",
              "      <td>500</td>\n",
              "      <td>6.07</td>\n",
              "    </tr>\n",
              "    <tr>\n",
              "      <th>1</th>\n",
              "      <td>200</td>\n",
              "      <td>4.54</td>\n",
              "    </tr>\n",
              "    <tr>\n",
              "      <th>2</th>\n",
              "      <td>300</td>\n",
              "      <td>4.88</td>\n",
              "    </tr>\n",
              "    <tr>\n",
              "      <th>3</th>\n",
              "      <td>600</td>\n",
              "      <td>7.06</td>\n",
              "    </tr>\n",
              "    <tr>\n",
              "      <th>4</th>\n",
              "      <td>150</td>\n",
              "      <td>3.72</td>\n",
              "    </tr>\n",
              "    <tr>\n",
              "      <th>5</th>\n",
              "      <td>400</td>\n",
              "      <td>5.25</td>\n",
              "    </tr>\n",
              "  </tbody>\n",
              "</table>\n",
              "</div>\n",
              "      <button class=\"colab-df-convert\" onclick=\"convertToInteractive('df-4eebc15b-bb59-4c94-bb66-e4fb9e571fa1')\"\n",
              "              title=\"Convert this dataframe to an interactive table.\"\n",
              "              style=\"display:none;\">\n",
              "        \n",
              "  <svg xmlns=\"http://www.w3.org/2000/svg\" height=\"24px\"viewBox=\"0 0 24 24\"\n",
              "       width=\"24px\">\n",
              "    <path d=\"M0 0h24v24H0V0z\" fill=\"none\"/>\n",
              "    <path d=\"M18.56 5.44l.94 2.06.94-2.06 2.06-.94-2.06-.94-.94-2.06-.94 2.06-2.06.94zm-11 1L8.5 8.5l.94-2.06 2.06-.94-2.06-.94L8.5 2.5l-.94 2.06-2.06.94zm10 10l.94 2.06.94-2.06 2.06-.94-2.06-.94-.94-2.06-.94 2.06-2.06.94z\"/><path d=\"M17.41 7.96l-1.37-1.37c-.4-.4-.92-.59-1.43-.59-.52 0-1.04.2-1.43.59L10.3 9.45l-7.72 7.72c-.78.78-.78 2.05 0 2.83L4 21.41c.39.39.9.59 1.41.59.51 0 1.02-.2 1.41-.59l7.78-7.78 2.81-2.81c.8-.78.8-2.07 0-2.86zM5.41 20L4 18.59l7.72-7.72 1.47 1.35L5.41 20z\"/>\n",
              "  </svg>\n",
              "      </button>\n",
              "      \n",
              "  <style>\n",
              "    .colab-df-container {\n",
              "      display:flex;\n",
              "      flex-wrap:wrap;\n",
              "      gap: 12px;\n",
              "    }\n",
              "\n",
              "    .colab-df-convert {\n",
              "      background-color: #E8F0FE;\n",
              "      border: none;\n",
              "      border-radius: 50%;\n",
              "      cursor: pointer;\n",
              "      display: none;\n",
              "      fill: #1967D2;\n",
              "      height: 32px;\n",
              "      padding: 0 0 0 0;\n",
              "      width: 32px;\n",
              "    }\n",
              "\n",
              "    .colab-df-convert:hover {\n",
              "      background-color: #E2EBFA;\n",
              "      box-shadow: 0px 1px 2px rgba(60, 64, 67, 0.3), 0px 1px 3px 1px rgba(60, 64, 67, 0.15);\n",
              "      fill: #174EA6;\n",
              "    }\n",
              "\n",
              "    [theme=dark] .colab-df-convert {\n",
              "      background-color: #3B4455;\n",
              "      fill: #D2E3FC;\n",
              "    }\n",
              "\n",
              "    [theme=dark] .colab-df-convert:hover {\n",
              "      background-color: #434B5C;\n",
              "      box-shadow: 0px 1px 3px 1px rgba(0, 0, 0, 0.15);\n",
              "      filter: drop-shadow(0px 1px 2px rgba(0, 0, 0, 0.3));\n",
              "      fill: #FFFFFF;\n",
              "    }\n",
              "  </style>\n",
              "\n",
              "      <script>\n",
              "        const buttonEl =\n",
              "          document.querySelector('#df-4eebc15b-bb59-4c94-bb66-e4fb9e571fa1 button.colab-df-convert');\n",
              "        buttonEl.style.display =\n",
              "          google.colab.kernel.accessAllowed ? 'block' : 'none';\n",
              "\n",
              "        async function convertToInteractive(key) {\n",
              "          const element = document.querySelector('#df-4eebc15b-bb59-4c94-bb66-e4fb9e571fa1');\n",
              "          const dataTable =\n",
              "            await google.colab.kernel.invokeFunction('convertToInteractive',\n",
              "                                                     [key], {});\n",
              "          if (!dataTable) return;\n",
              "\n",
              "          const docLinkHtml = 'Like what you see? Visit the ' +\n",
              "            '<a target=\"_blank\" href=https://colab.research.google.com/notebooks/data_table.ipynb>data table notebook</a>'\n",
              "            + ' to learn more about interactive tables.';\n",
              "          element.innerHTML = '';\n",
              "          dataTable['output_type'] = 'display_data';\n",
              "          await google.colab.output.renderOutput(dataTable, element);\n",
              "          const docLink = document.createElement('div');\n",
              "          docLink.innerHTML = docLinkHtml;\n",
              "          element.appendChild(docLink);\n",
              "        }\n",
              "      </script>\n",
              "    </div>\n",
              "  </div>\n",
              "  "
            ]
          },
          "metadata": {},
          "execution_count": 2
        }
      ]
    },
    {
      "cell_type": "code",
      "source": [
        "df['t_10']= df.apply(lambda row: row.t10/10, axis= 1) \n",
        "print(df)"
      ],
      "metadata": {
        "colab": {
          "base_uri": "https://localhost:8080/"
        },
        "id": "heZlCfeYXXgj",
        "outputId": "8c35292a-0ecf-496e-e74b-1ee1fef4c32f"
      },
      "execution_count": null,
      "outputs": [
        {
          "output_type": "stream",
          "name": "stdout",
          "text": [
            "    mg   t10   t_10\n",
            "0  500  6.07  0.607\n",
            "1  200  4.54  0.454\n",
            "2  300  4.88  0.488\n",
            "3  600  7.06  0.706\n",
            "4  150  3.72  0.372\n",
            "5  400  5.25  0.525\n"
          ]
        }
      ]
    },
    {
      "cell_type": "code",
      "source": [
        "df"
      ],
      "metadata": {
        "colab": {
          "base_uri": "https://localhost:8080/",
          "height": 238
        },
        "id": "USy_E73HXXpc",
        "outputId": "be2586d8-022e-4708-a877-a4793914b380"
      },
      "execution_count": null,
      "outputs": [
        {
          "output_type": "execute_result",
          "data": {
            "text/plain": [
              "    mg   t10   t_10\n",
              "0  500  6.07  0.607\n",
              "1  200  4.54  0.454\n",
              "2  300  4.88  0.488\n",
              "3  600  7.06  0.706\n",
              "4  150  3.72  0.372\n",
              "5  400  5.25  0.525"
            ],
            "text/html": [
              "\n",
              "  <div id=\"df-5078cc04-7a1d-4414-8a56-d93d1509881b\">\n",
              "    <div class=\"colab-df-container\">\n",
              "      <div>\n",
              "<style scoped>\n",
              "    .dataframe tbody tr th:only-of-type {\n",
              "        vertical-align: middle;\n",
              "    }\n",
              "\n",
              "    .dataframe tbody tr th {\n",
              "        vertical-align: top;\n",
              "    }\n",
              "\n",
              "    .dataframe thead th {\n",
              "        text-align: right;\n",
              "    }\n",
              "</style>\n",
              "<table border=\"1\" class=\"dataframe\">\n",
              "  <thead>\n",
              "    <tr style=\"text-align: right;\">\n",
              "      <th></th>\n",
              "      <th>mg</th>\n",
              "      <th>t10</th>\n",
              "      <th>t_10</th>\n",
              "    </tr>\n",
              "  </thead>\n",
              "  <tbody>\n",
              "    <tr>\n",
              "      <th>0</th>\n",
              "      <td>500</td>\n",
              "      <td>6.07</td>\n",
              "      <td>0.607</td>\n",
              "    </tr>\n",
              "    <tr>\n",
              "      <th>1</th>\n",
              "      <td>200</td>\n",
              "      <td>4.54</td>\n",
              "      <td>0.454</td>\n",
              "    </tr>\n",
              "    <tr>\n",
              "      <th>2</th>\n",
              "      <td>300</td>\n",
              "      <td>4.88</td>\n",
              "      <td>0.488</td>\n",
              "    </tr>\n",
              "    <tr>\n",
              "      <th>3</th>\n",
              "      <td>600</td>\n",
              "      <td>7.06</td>\n",
              "      <td>0.706</td>\n",
              "    </tr>\n",
              "    <tr>\n",
              "      <th>4</th>\n",
              "      <td>150</td>\n",
              "      <td>3.72</td>\n",
              "      <td>0.372</td>\n",
              "    </tr>\n",
              "    <tr>\n",
              "      <th>5</th>\n",
              "      <td>400</td>\n",
              "      <td>5.25</td>\n",
              "      <td>0.525</td>\n",
              "    </tr>\n",
              "  </tbody>\n",
              "</table>\n",
              "</div>\n",
              "      <button class=\"colab-df-convert\" onclick=\"convertToInteractive('df-5078cc04-7a1d-4414-8a56-d93d1509881b')\"\n",
              "              title=\"Convert this dataframe to an interactive table.\"\n",
              "              style=\"display:none;\">\n",
              "        \n",
              "  <svg xmlns=\"http://www.w3.org/2000/svg\" height=\"24px\"viewBox=\"0 0 24 24\"\n",
              "       width=\"24px\">\n",
              "    <path d=\"M0 0h24v24H0V0z\" fill=\"none\"/>\n",
              "    <path d=\"M18.56 5.44l.94 2.06.94-2.06 2.06-.94-2.06-.94-.94-2.06-.94 2.06-2.06.94zm-11 1L8.5 8.5l.94-2.06 2.06-.94-2.06-.94L8.5 2.5l-.94 2.06-2.06.94zm10 10l.94 2.06.94-2.06 2.06-.94-2.06-.94-.94-2.06-.94 2.06-2.06.94z\"/><path d=\"M17.41 7.96l-1.37-1.37c-.4-.4-.92-.59-1.43-.59-.52 0-1.04.2-1.43.59L10.3 9.45l-7.72 7.72c-.78.78-.78 2.05 0 2.83L4 21.41c.39.39.9.59 1.41.59.51 0 1.02-.2 1.41-.59l7.78-7.78 2.81-2.81c.8-.78.8-2.07 0-2.86zM5.41 20L4 18.59l7.72-7.72 1.47 1.35L5.41 20z\"/>\n",
              "  </svg>\n",
              "      </button>\n",
              "      \n",
              "  <style>\n",
              "    .colab-df-container {\n",
              "      display:flex;\n",
              "      flex-wrap:wrap;\n",
              "      gap: 12px;\n",
              "    }\n",
              "\n",
              "    .colab-df-convert {\n",
              "      background-color: #E8F0FE;\n",
              "      border: none;\n",
              "      border-radius: 50%;\n",
              "      cursor: pointer;\n",
              "      display: none;\n",
              "      fill: #1967D2;\n",
              "      height: 32px;\n",
              "      padding: 0 0 0 0;\n",
              "      width: 32px;\n",
              "    }\n",
              "\n",
              "    .colab-df-convert:hover {\n",
              "      background-color: #E2EBFA;\n",
              "      box-shadow: 0px 1px 2px rgba(60, 64, 67, 0.3), 0px 1px 3px 1px rgba(60, 64, 67, 0.15);\n",
              "      fill: #174EA6;\n",
              "    }\n",
              "\n",
              "    [theme=dark] .colab-df-convert {\n",
              "      background-color: #3B4455;\n",
              "      fill: #D2E3FC;\n",
              "    }\n",
              "\n",
              "    [theme=dark] .colab-df-convert:hover {\n",
              "      background-color: #434B5C;\n",
              "      box-shadow: 0px 1px 3px 1px rgba(0, 0, 0, 0.15);\n",
              "      filter: drop-shadow(0px 1px 2px rgba(0, 0, 0, 0.3));\n",
              "      fill: #FFFFFF;\n",
              "    }\n",
              "  </style>\n",
              "\n",
              "      <script>\n",
              "        const buttonEl =\n",
              "          document.querySelector('#df-5078cc04-7a1d-4414-8a56-d93d1509881b button.colab-df-convert');\n",
              "        buttonEl.style.display =\n",
              "          google.colab.kernel.accessAllowed ? 'block' : 'none';\n",
              "\n",
              "        async function convertToInteractive(key) {\n",
              "          const element = document.querySelector('#df-5078cc04-7a1d-4414-8a56-d93d1509881b');\n",
              "          const dataTable =\n",
              "            await google.colab.kernel.invokeFunction('convertToInteractive',\n",
              "                                                     [key], {});\n",
              "          if (!dataTable) return;\n",
              "\n",
              "          const docLinkHtml = 'Like what you see? Visit the ' +\n",
              "            '<a target=\"_blank\" href=https://colab.research.google.com/notebooks/data_table.ipynb>data table notebook</a>'\n",
              "            + ' to learn more about interactive tables.';\n",
              "          element.innerHTML = '';\n",
              "          dataTable['output_type'] = 'display_data';\n",
              "          await google.colab.output.renderOutput(dataTable, element);\n",
              "          const docLink = document.createElement('div');\n",
              "          docLink.innerHTML = docLinkHtml;\n",
              "          element.appendChild(docLink);\n",
              "        }\n",
              "      </script>\n",
              "    </div>\n",
              "  </div>\n",
              "  "
            ]
          },
          "metadata": {},
          "execution_count": 4
        }
      ]
    },
    {
      "cell_type": "code",
      "source": [
        "df['t2'] = df.apply(lambda row: row.t_10**2, axis =1)\n",
        "print(df)\n"
      ],
      "metadata": {
        "colab": {
          "base_uri": "https://localhost:8080/"
        },
        "id": "SbLvg1mgXXsb",
        "outputId": "5af24493-2702-4840-bd17-21e0e8e7cb9a"
      },
      "execution_count": null,
      "outputs": [
        {
          "output_type": "stream",
          "name": "stdout",
          "text": [
            "    mg   t10   t_10        t2\n",
            "0  500  6.07  0.607  0.368449\n",
            "1  200  4.54  0.454  0.206116\n",
            "2  300  4.88  0.488  0.238144\n",
            "3  600  7.06  0.706  0.498436\n",
            "4  150  3.72  0.372  0.138384\n",
            "5  400  5.25  0.525  0.275625\n"
          ]
        }
      ]
    },
    {
      "cell_type": "code",
      "source": [
        "import seaborn as sns \n",
        "\n",
        "cm=sns.light_palette(\"blue\",as_cmap=True)\n",
        "\n",
        "b=df.style.background_gradient(cmap=cm)\n",
        "b"
      ],
      "metadata": {
        "colab": {
          "base_uri": "https://localhost:8080/",
          "height": 238
        },
        "id": "TbYpENXsXXxq",
        "outputId": "d4285e0c-8c66-415a-ec4b-f8ef64547223"
      },
      "execution_count": null,
      "outputs": [
        {
          "output_type": "execute_result",
          "data": {
            "text/plain": [
              "<pandas.io.formats.style.Styler at 0x7f7ba36aa770>"
            ],
            "text/html": [
              "<style type=\"text/css\">\n",
              "#T_f148c_row0_col0 {\n",
              "  background-color: #3535fc;\n",
              "  color: #f1f1f1;\n",
              "}\n",
              "#T_f148c_row0_col1, #T_f148c_row0_col2 {\n",
              "  background-color: #4747fb;\n",
              "  color: #f1f1f1;\n",
              "}\n",
              "#T_f148c_row0_col3 {\n",
              "  background-color: #5757fb;\n",
              "  color: #f1f1f1;\n",
              "}\n",
              "#T_f148c_row1_col0 {\n",
              "  background-color: #d6d6f4;\n",
              "  color: #000000;\n",
              "}\n",
              "#T_f148c_row1_col1, #T_f148c_row1_col2 {\n",
              "  background-color: #b6b6f6;\n",
              "  color: #000000;\n",
              "}\n",
              "#T_f148c_row1_col3 {\n",
              "  background-color: #c3c3f5;\n",
              "  color: #000000;\n",
              "}\n",
              "#T_f148c_row2_col0 {\n",
              "  background-color: #a0a0f7;\n",
              "  color: #f1f1f1;\n",
              "}\n",
              "#T_f148c_row2_col1, #T_f148c_row2_col2 {\n",
              "  background-color: #9d9df7;\n",
              "  color: #f1f1f1;\n",
              "}\n",
              "#T_f148c_row2_col3 {\n",
              "  background-color: #aeaef6;\n",
              "  color: #000000;\n",
              "}\n",
              "#T_f148c_row3_col0, #T_f148c_row3_col1, #T_f148c_row3_col2, #T_f148c_row3_col3 {\n",
              "  background-color: #0000ff;\n",
              "  color: #f1f1f1;\n",
              "}\n",
              "#T_f148c_row4_col0, #T_f148c_row4_col1, #T_f148c_row4_col2, #T_f148c_row4_col3 {\n",
              "  background-color: #f0f0f3;\n",
              "  color: #000000;\n",
              "}\n",
              "#T_f148c_row5_col0 {\n",
              "  background-color: #6b6bfa;\n",
              "  color: #f1f1f1;\n",
              "}\n",
              "#T_f148c_row5_col1, #T_f148c_row5_col2 {\n",
              "  background-color: #8282f8;\n",
              "  color: #f1f1f1;\n",
              "}\n",
              "#T_f148c_row5_col3 {\n",
              "  background-color: #9595f7;\n",
              "  color: #f1f1f1;\n",
              "}\n",
              "</style>\n",
              "<table id=\"T_f148c\" class=\"dataframe\">\n",
              "  <thead>\n",
              "    <tr>\n",
              "      <th class=\"blank level0\" >&nbsp;</th>\n",
              "      <th id=\"T_f148c_level0_col0\" class=\"col_heading level0 col0\" >mg</th>\n",
              "      <th id=\"T_f148c_level0_col1\" class=\"col_heading level0 col1\" >t10</th>\n",
              "      <th id=\"T_f148c_level0_col2\" class=\"col_heading level0 col2\" >t_10</th>\n",
              "      <th id=\"T_f148c_level0_col3\" class=\"col_heading level0 col3\" >t2</th>\n",
              "    </tr>\n",
              "  </thead>\n",
              "  <tbody>\n",
              "    <tr>\n",
              "      <th id=\"T_f148c_level0_row0\" class=\"row_heading level0 row0\" >0</th>\n",
              "      <td id=\"T_f148c_row0_col0\" class=\"data row0 col0\" >500</td>\n",
              "      <td id=\"T_f148c_row0_col1\" class=\"data row0 col1\" >6.070000</td>\n",
              "      <td id=\"T_f148c_row0_col2\" class=\"data row0 col2\" >0.607000</td>\n",
              "      <td id=\"T_f148c_row0_col3\" class=\"data row0 col3\" >0.368449</td>\n",
              "    </tr>\n",
              "    <tr>\n",
              "      <th id=\"T_f148c_level0_row1\" class=\"row_heading level0 row1\" >1</th>\n",
              "      <td id=\"T_f148c_row1_col0\" class=\"data row1 col0\" >200</td>\n",
              "      <td id=\"T_f148c_row1_col1\" class=\"data row1 col1\" >4.540000</td>\n",
              "      <td id=\"T_f148c_row1_col2\" class=\"data row1 col2\" >0.454000</td>\n",
              "      <td id=\"T_f148c_row1_col3\" class=\"data row1 col3\" >0.206116</td>\n",
              "    </tr>\n",
              "    <tr>\n",
              "      <th id=\"T_f148c_level0_row2\" class=\"row_heading level0 row2\" >2</th>\n",
              "      <td id=\"T_f148c_row2_col0\" class=\"data row2 col0\" >300</td>\n",
              "      <td id=\"T_f148c_row2_col1\" class=\"data row2 col1\" >4.880000</td>\n",
              "      <td id=\"T_f148c_row2_col2\" class=\"data row2 col2\" >0.488000</td>\n",
              "      <td id=\"T_f148c_row2_col3\" class=\"data row2 col3\" >0.238144</td>\n",
              "    </tr>\n",
              "    <tr>\n",
              "      <th id=\"T_f148c_level0_row3\" class=\"row_heading level0 row3\" >3</th>\n",
              "      <td id=\"T_f148c_row3_col0\" class=\"data row3 col0\" >600</td>\n",
              "      <td id=\"T_f148c_row3_col1\" class=\"data row3 col1\" >7.060000</td>\n",
              "      <td id=\"T_f148c_row3_col2\" class=\"data row3 col2\" >0.706000</td>\n",
              "      <td id=\"T_f148c_row3_col3\" class=\"data row3 col3\" >0.498436</td>\n",
              "    </tr>\n",
              "    <tr>\n",
              "      <th id=\"T_f148c_level0_row4\" class=\"row_heading level0 row4\" >4</th>\n",
              "      <td id=\"T_f148c_row4_col0\" class=\"data row4 col0\" >150</td>\n",
              "      <td id=\"T_f148c_row4_col1\" class=\"data row4 col1\" >3.720000</td>\n",
              "      <td id=\"T_f148c_row4_col2\" class=\"data row4 col2\" >0.372000</td>\n",
              "      <td id=\"T_f148c_row4_col3\" class=\"data row4 col3\" >0.138384</td>\n",
              "    </tr>\n",
              "    <tr>\n",
              "      <th id=\"T_f148c_level0_row5\" class=\"row_heading level0 row5\" >5</th>\n",
              "      <td id=\"T_f148c_row5_col0\" class=\"data row5 col0\" >400</td>\n",
              "      <td id=\"T_f148c_row5_col1\" class=\"data row5 col1\" >5.250000</td>\n",
              "      <td id=\"T_f148c_row5_col2\" class=\"data row5 col2\" >0.525000</td>\n",
              "      <td id=\"T_f148c_row5_col3\" class=\"data row5 col3\" >0.275625</td>\n",
              "    </tr>\n",
              "  </tbody>\n",
              "</table>\n"
            ]
          },
          "metadata": {},
          "execution_count": 6
        }
      ]
    },
    {
      "cell_type": "code",
      "source": [
        "#table 2\n",
        "import matplotlib.pyplot as plt\n",
        "import pandas as pd\n",
        "data2={\"body      \":[\"light Body (m1)\",\"Heavy Body(m**2)\"],\"T10\":[3.87,4.69]}\n",
        "df2= pd.DataFrame(data2)\n",
        "print(df2)"
      ],
      "metadata": {
        "colab": {
          "base_uri": "https://localhost:8080/"
        },
        "id": "hXHnC26_XX1S",
        "outputId": "e189e498-c308-4921-fe51-f0f8497c3b6b"
      },
      "execution_count": null,
      "outputs": [
        {
          "output_type": "stream",
          "name": "stdout",
          "text": [
            "         body         T10\n",
            "0   light Body (m1)  3.87\n",
            "1  Heavy Body(m**2)  4.69\n"
          ]
        }
      ]
    },
    {
      "cell_type": "code",
      "source": [
        "df2"
      ],
      "metadata": {
        "colab": {
          "base_uri": "https://localhost:8080/",
          "height": 112
        },
        "id": "H9c71B72X3kz",
        "outputId": "f807ae87-8f0f-47f3-90b4-d432075e35d9"
      },
      "execution_count": null,
      "outputs": [
        {
          "output_type": "execute_result",
          "data": {
            "text/plain": [
              "         body         T10\n",
              "0   light Body (m1)  3.87\n",
              "1  Heavy Body(m**2)  4.69"
            ],
            "text/html": [
              "\n",
              "  <div id=\"df-d2bc2c48-ff2f-46cd-aeec-982563fe3432\">\n",
              "    <div class=\"colab-df-container\">\n",
              "      <div>\n",
              "<style scoped>\n",
              "    .dataframe tbody tr th:only-of-type {\n",
              "        vertical-align: middle;\n",
              "    }\n",
              "\n",
              "    .dataframe tbody tr th {\n",
              "        vertical-align: top;\n",
              "    }\n",
              "\n",
              "    .dataframe thead th {\n",
              "        text-align: right;\n",
              "    }\n",
              "</style>\n",
              "<table border=\"1\" class=\"dataframe\">\n",
              "  <thead>\n",
              "    <tr style=\"text-align: right;\">\n",
              "      <th></th>\n",
              "      <th>body</th>\n",
              "      <th>T10</th>\n",
              "    </tr>\n",
              "  </thead>\n",
              "  <tbody>\n",
              "    <tr>\n",
              "      <th>0</th>\n",
              "      <td>light Body (m1)</td>\n",
              "      <td>3.87</td>\n",
              "    </tr>\n",
              "    <tr>\n",
              "      <th>1</th>\n",
              "      <td>Heavy Body(m**2)</td>\n",
              "      <td>4.69</td>\n",
              "    </tr>\n",
              "  </tbody>\n",
              "</table>\n",
              "</div>\n",
              "      <button class=\"colab-df-convert\" onclick=\"convertToInteractive('df-d2bc2c48-ff2f-46cd-aeec-982563fe3432')\"\n",
              "              title=\"Convert this dataframe to an interactive table.\"\n",
              "              style=\"display:none;\">\n",
              "        \n",
              "  <svg xmlns=\"http://www.w3.org/2000/svg\" height=\"24px\"viewBox=\"0 0 24 24\"\n",
              "       width=\"24px\">\n",
              "    <path d=\"M0 0h24v24H0V0z\" fill=\"none\"/>\n",
              "    <path d=\"M18.56 5.44l.94 2.06.94-2.06 2.06-.94-2.06-.94-.94-2.06-.94 2.06-2.06.94zm-11 1L8.5 8.5l.94-2.06 2.06-.94-2.06-.94L8.5 2.5l-.94 2.06-2.06.94zm10 10l.94 2.06.94-2.06 2.06-.94-2.06-.94-.94-2.06-.94 2.06-2.06.94z\"/><path d=\"M17.41 7.96l-1.37-1.37c-.4-.4-.92-.59-1.43-.59-.52 0-1.04.2-1.43.59L10.3 9.45l-7.72 7.72c-.78.78-.78 2.05 0 2.83L4 21.41c.39.39.9.59 1.41.59.51 0 1.02-.2 1.41-.59l7.78-7.78 2.81-2.81c.8-.78.8-2.07 0-2.86zM5.41 20L4 18.59l7.72-7.72 1.47 1.35L5.41 20z\"/>\n",
              "  </svg>\n",
              "      </button>\n",
              "      \n",
              "  <style>\n",
              "    .colab-df-container {\n",
              "      display:flex;\n",
              "      flex-wrap:wrap;\n",
              "      gap: 12px;\n",
              "    }\n",
              "\n",
              "    .colab-df-convert {\n",
              "      background-color: #E8F0FE;\n",
              "      border: none;\n",
              "      border-radius: 50%;\n",
              "      cursor: pointer;\n",
              "      display: none;\n",
              "      fill: #1967D2;\n",
              "      height: 32px;\n",
              "      padding: 0 0 0 0;\n",
              "      width: 32px;\n",
              "    }\n",
              "\n",
              "    .colab-df-convert:hover {\n",
              "      background-color: #E2EBFA;\n",
              "      box-shadow: 0px 1px 2px rgba(60, 64, 67, 0.3), 0px 1px 3px 1px rgba(60, 64, 67, 0.15);\n",
              "      fill: #174EA6;\n",
              "    }\n",
              "\n",
              "    [theme=dark] .colab-df-convert {\n",
              "      background-color: #3B4455;\n",
              "      fill: #D2E3FC;\n",
              "    }\n",
              "\n",
              "    [theme=dark] .colab-df-convert:hover {\n",
              "      background-color: #434B5C;\n",
              "      box-shadow: 0px 1px 3px 1px rgba(0, 0, 0, 0.15);\n",
              "      filter: drop-shadow(0px 1px 2px rgba(0, 0, 0, 0.3));\n",
              "      fill: #FFFFFF;\n",
              "    }\n",
              "  </style>\n",
              "\n",
              "      <script>\n",
              "        const buttonEl =\n",
              "          document.querySelector('#df-d2bc2c48-ff2f-46cd-aeec-982563fe3432 button.colab-df-convert');\n",
              "        buttonEl.style.display =\n",
              "          google.colab.kernel.accessAllowed ? 'block' : 'none';\n",
              "\n",
              "        async function convertToInteractive(key) {\n",
              "          const element = document.querySelector('#df-d2bc2c48-ff2f-46cd-aeec-982563fe3432');\n",
              "          const dataTable =\n",
              "            await google.colab.kernel.invokeFunction('convertToInteractive',\n",
              "                                                     [key], {});\n",
              "          if (!dataTable) return;\n",
              "\n",
              "          const docLinkHtml = 'Like what you see? Visit the ' +\n",
              "            '<a target=\"_blank\" href=https://colab.research.google.com/notebooks/data_table.ipynb>data table notebook</a>'\n",
              "            + ' to learn more about interactive tables.';\n",
              "          element.innerHTML = '';\n",
              "          dataTable['output_type'] = 'display_data';\n",
              "          await google.colab.output.renderOutput(dataTable, element);\n",
              "          const docLink = document.createElement('div');\n",
              "          docLink.innerHTML = docLinkHtml;\n",
              "          element.appendChild(docLink);\n",
              "        }\n",
              "      </script>\n",
              "    </div>\n",
              "  </div>\n",
              "  "
            ]
          },
          "metadata": {},
          "execution_count": 8
        }
      ]
    },
    {
      "cell_type": "code",
      "source": [
        "df2['T10_10']= df2.apply(lambda row: row.T10/10 , axis=1)\n",
        "print(df2)"
      ],
      "metadata": {
        "colab": {
          "base_uri": "https://localhost:8080/"
        },
        "id": "qWbvbkJyX3o7",
        "outputId": "cce26ba6-6d3c-4306-a74a-53f61a470b7c"
      },
      "execution_count": null,
      "outputs": [
        {
          "output_type": "stream",
          "name": "stdout",
          "text": [
            "         body         T10  T10_10\n",
            "0   light Body (m1)  3.87   0.387\n",
            "1  Heavy Body(m**2)  4.69   0.469\n"
          ]
        }
      ]
    },
    {
      "cell_type": "code",
      "source": [
        "df2"
      ],
      "metadata": {
        "colab": {
          "base_uri": "https://localhost:8080/",
          "height": 112
        },
        "id": "vkmNAfirX3sk",
        "outputId": "5e93d79d-25a4-4f75-e945-2ad1aebea36f"
      },
      "execution_count": null,
      "outputs": [
        {
          "output_type": "execute_result",
          "data": {
            "text/plain": [
              "         body         T10  T10_10\n",
              "0   light Body (m1)  3.87   0.387\n",
              "1  Heavy Body(m**2)  4.69   0.469"
            ],
            "text/html": [
              "\n",
              "  <div id=\"df-bc0a397c-3677-449f-9617-5cd593788db0\">\n",
              "    <div class=\"colab-df-container\">\n",
              "      <div>\n",
              "<style scoped>\n",
              "    .dataframe tbody tr th:only-of-type {\n",
              "        vertical-align: middle;\n",
              "    }\n",
              "\n",
              "    .dataframe tbody tr th {\n",
              "        vertical-align: top;\n",
              "    }\n",
              "\n",
              "    .dataframe thead th {\n",
              "        text-align: right;\n",
              "    }\n",
              "</style>\n",
              "<table border=\"1\" class=\"dataframe\">\n",
              "  <thead>\n",
              "    <tr style=\"text-align: right;\">\n",
              "      <th></th>\n",
              "      <th>body</th>\n",
              "      <th>T10</th>\n",
              "      <th>T10_10</th>\n",
              "    </tr>\n",
              "  </thead>\n",
              "  <tbody>\n",
              "    <tr>\n",
              "      <th>0</th>\n",
              "      <td>light Body (m1)</td>\n",
              "      <td>3.87</td>\n",
              "      <td>0.387</td>\n",
              "    </tr>\n",
              "    <tr>\n",
              "      <th>1</th>\n",
              "      <td>Heavy Body(m**2)</td>\n",
              "      <td>4.69</td>\n",
              "      <td>0.469</td>\n",
              "    </tr>\n",
              "  </tbody>\n",
              "</table>\n",
              "</div>\n",
              "      <button class=\"colab-df-convert\" onclick=\"convertToInteractive('df-bc0a397c-3677-449f-9617-5cd593788db0')\"\n",
              "              title=\"Convert this dataframe to an interactive table.\"\n",
              "              style=\"display:none;\">\n",
              "        \n",
              "  <svg xmlns=\"http://www.w3.org/2000/svg\" height=\"24px\"viewBox=\"0 0 24 24\"\n",
              "       width=\"24px\">\n",
              "    <path d=\"M0 0h24v24H0V0z\" fill=\"none\"/>\n",
              "    <path d=\"M18.56 5.44l.94 2.06.94-2.06 2.06-.94-2.06-.94-.94-2.06-.94 2.06-2.06.94zm-11 1L8.5 8.5l.94-2.06 2.06-.94-2.06-.94L8.5 2.5l-.94 2.06-2.06.94zm10 10l.94 2.06.94-2.06 2.06-.94-2.06-.94-.94-2.06-.94 2.06-2.06.94z\"/><path d=\"M17.41 7.96l-1.37-1.37c-.4-.4-.92-.59-1.43-.59-.52 0-1.04.2-1.43.59L10.3 9.45l-7.72 7.72c-.78.78-.78 2.05 0 2.83L4 21.41c.39.39.9.59 1.41.59.51 0 1.02-.2 1.41-.59l7.78-7.78 2.81-2.81c.8-.78.8-2.07 0-2.86zM5.41 20L4 18.59l7.72-7.72 1.47 1.35L5.41 20z\"/>\n",
              "  </svg>\n",
              "      </button>\n",
              "      \n",
              "  <style>\n",
              "    .colab-df-container {\n",
              "      display:flex;\n",
              "      flex-wrap:wrap;\n",
              "      gap: 12px;\n",
              "    }\n",
              "\n",
              "    .colab-df-convert {\n",
              "      background-color: #E8F0FE;\n",
              "      border: none;\n",
              "      border-radius: 50%;\n",
              "      cursor: pointer;\n",
              "      display: none;\n",
              "      fill: #1967D2;\n",
              "      height: 32px;\n",
              "      padding: 0 0 0 0;\n",
              "      width: 32px;\n",
              "    }\n",
              "\n",
              "    .colab-df-convert:hover {\n",
              "      background-color: #E2EBFA;\n",
              "      box-shadow: 0px 1px 2px rgba(60, 64, 67, 0.3), 0px 1px 3px 1px rgba(60, 64, 67, 0.15);\n",
              "      fill: #174EA6;\n",
              "    }\n",
              "\n",
              "    [theme=dark] .colab-df-convert {\n",
              "      background-color: #3B4455;\n",
              "      fill: #D2E3FC;\n",
              "    }\n",
              "\n",
              "    [theme=dark] .colab-df-convert:hover {\n",
              "      background-color: #434B5C;\n",
              "      box-shadow: 0px 1px 3px 1px rgba(0, 0, 0, 0.15);\n",
              "      filter: drop-shadow(0px 1px 2px rgba(0, 0, 0, 0.3));\n",
              "      fill: #FFFFFF;\n",
              "    }\n",
              "  </style>\n",
              "\n",
              "      <script>\n",
              "        const buttonEl =\n",
              "          document.querySelector('#df-bc0a397c-3677-449f-9617-5cd593788db0 button.colab-df-convert');\n",
              "        buttonEl.style.display =\n",
              "          google.colab.kernel.accessAllowed ? 'block' : 'none';\n",
              "\n",
              "        async function convertToInteractive(key) {\n",
              "          const element = document.querySelector('#df-bc0a397c-3677-449f-9617-5cd593788db0');\n",
              "          const dataTable =\n",
              "            await google.colab.kernel.invokeFunction('convertToInteractive',\n",
              "                                                     [key], {});\n",
              "          if (!dataTable) return;\n",
              "\n",
              "          const docLinkHtml = 'Like what you see? Visit the ' +\n",
              "            '<a target=\"_blank\" href=https://colab.research.google.com/notebooks/data_table.ipynb>data table notebook</a>'\n",
              "            + ' to learn more about interactive tables.';\n",
              "          element.innerHTML = '';\n",
              "          dataTable['output_type'] = 'display_data';\n",
              "          await google.colab.output.renderOutput(dataTable, element);\n",
              "          const docLink = document.createElement('div');\n",
              "          docLink.innerHTML = docLinkHtml;\n",
              "          element.appendChild(docLink);\n",
              "        }\n",
              "      </script>\n",
              "    </div>\n",
              "  </div>\n",
              "  "
            ]
          },
          "metadata": {},
          "execution_count": 10
        }
      ]
    },
    {
      "cell_type": "code",
      "source": [
        "df2['T2']= df2.apply(lambda row: row.T10_10**2 , axis=1)\n",
        "print(df2)"
      ],
      "metadata": {
        "colab": {
          "base_uri": "https://localhost:8080/"
        },
        "id": "E8rHXzq6X3vt",
        "outputId": "e585fbd1-a117-42e8-9670-18b018196462"
      },
      "execution_count": null,
      "outputs": [
        {
          "output_type": "stream",
          "name": "stdout",
          "text": [
            "         body         T10  T10_10        T2\n",
            "0   light Body (m1)  3.87   0.387  0.149769\n",
            "1  Heavy Body(m**2)  4.69   0.469  0.219961\n"
          ]
        }
      ]
    },
    {
      "cell_type": "code",
      "source": [
        "df2"
      ],
      "metadata": {
        "colab": {
          "base_uri": "https://localhost:8080/",
          "height": 112
        },
        "id": "9dvt-uu6X3yS",
        "outputId": "bfef3a4b-d85e-4921-888f-7c3be1bbaba9"
      },
      "execution_count": null,
      "outputs": [
        {
          "output_type": "execute_result",
          "data": {
            "text/plain": [
              "         body         T10  T10_10        T2\n",
              "0   light Body (m1)  3.87   0.387  0.149769\n",
              "1  Heavy Body(m**2)  4.69   0.469  0.219961"
            ],
            "text/html": [
              "\n",
              "  <div id=\"df-f9dc310a-94fc-488e-aa07-3ae1e68a9830\">\n",
              "    <div class=\"colab-df-container\">\n",
              "      <div>\n",
              "<style scoped>\n",
              "    .dataframe tbody tr th:only-of-type {\n",
              "        vertical-align: middle;\n",
              "    }\n",
              "\n",
              "    .dataframe tbody tr th {\n",
              "        vertical-align: top;\n",
              "    }\n",
              "\n",
              "    .dataframe thead th {\n",
              "        text-align: right;\n",
              "    }\n",
              "</style>\n",
              "<table border=\"1\" class=\"dataframe\">\n",
              "  <thead>\n",
              "    <tr style=\"text-align: right;\">\n",
              "      <th></th>\n",
              "      <th>body</th>\n",
              "      <th>T10</th>\n",
              "      <th>T10_10</th>\n",
              "      <th>T2</th>\n",
              "    </tr>\n",
              "  </thead>\n",
              "  <tbody>\n",
              "    <tr>\n",
              "      <th>0</th>\n",
              "      <td>light Body (m1)</td>\n",
              "      <td>3.87</td>\n",
              "      <td>0.387</td>\n",
              "      <td>0.149769</td>\n",
              "    </tr>\n",
              "    <tr>\n",
              "      <th>1</th>\n",
              "      <td>Heavy Body(m**2)</td>\n",
              "      <td>4.69</td>\n",
              "      <td>0.469</td>\n",
              "      <td>0.219961</td>\n",
              "    </tr>\n",
              "  </tbody>\n",
              "</table>\n",
              "</div>\n",
              "      <button class=\"colab-df-convert\" onclick=\"convertToInteractive('df-f9dc310a-94fc-488e-aa07-3ae1e68a9830')\"\n",
              "              title=\"Convert this dataframe to an interactive table.\"\n",
              "              style=\"display:none;\">\n",
              "        \n",
              "  <svg xmlns=\"http://www.w3.org/2000/svg\" height=\"24px\"viewBox=\"0 0 24 24\"\n",
              "       width=\"24px\">\n",
              "    <path d=\"M0 0h24v24H0V0z\" fill=\"none\"/>\n",
              "    <path d=\"M18.56 5.44l.94 2.06.94-2.06 2.06-.94-2.06-.94-.94-2.06-.94 2.06-2.06.94zm-11 1L8.5 8.5l.94-2.06 2.06-.94-2.06-.94L8.5 2.5l-.94 2.06-2.06.94zm10 10l.94 2.06.94-2.06 2.06-.94-2.06-.94-.94-2.06-.94 2.06-2.06.94z\"/><path d=\"M17.41 7.96l-1.37-1.37c-.4-.4-.92-.59-1.43-.59-.52 0-1.04.2-1.43.59L10.3 9.45l-7.72 7.72c-.78.78-.78 2.05 0 2.83L4 21.41c.39.39.9.59 1.41.59.51 0 1.02-.2 1.41-.59l7.78-7.78 2.81-2.81c.8-.78.8-2.07 0-2.86zM5.41 20L4 18.59l7.72-7.72 1.47 1.35L5.41 20z\"/>\n",
              "  </svg>\n",
              "      </button>\n",
              "      \n",
              "  <style>\n",
              "    .colab-df-container {\n",
              "      display:flex;\n",
              "      flex-wrap:wrap;\n",
              "      gap: 12px;\n",
              "    }\n",
              "\n",
              "    .colab-df-convert {\n",
              "      background-color: #E8F0FE;\n",
              "      border: none;\n",
              "      border-radius: 50%;\n",
              "      cursor: pointer;\n",
              "      display: none;\n",
              "      fill: #1967D2;\n",
              "      height: 32px;\n",
              "      padding: 0 0 0 0;\n",
              "      width: 32px;\n",
              "    }\n",
              "\n",
              "    .colab-df-convert:hover {\n",
              "      background-color: #E2EBFA;\n",
              "      box-shadow: 0px 1px 2px rgba(60, 64, 67, 0.3), 0px 1px 3px 1px rgba(60, 64, 67, 0.15);\n",
              "      fill: #174EA6;\n",
              "    }\n",
              "\n",
              "    [theme=dark] .colab-df-convert {\n",
              "      background-color: #3B4455;\n",
              "      fill: #D2E3FC;\n",
              "    }\n",
              "\n",
              "    [theme=dark] .colab-df-convert:hover {\n",
              "      background-color: #434B5C;\n",
              "      box-shadow: 0px 1px 3px 1px rgba(0, 0, 0, 0.15);\n",
              "      filter: drop-shadow(0px 1px 2px rgba(0, 0, 0, 0.3));\n",
              "      fill: #FFFFFF;\n",
              "    }\n",
              "  </style>\n",
              "\n",
              "      <script>\n",
              "        const buttonEl =\n",
              "          document.querySelector('#df-f9dc310a-94fc-488e-aa07-3ae1e68a9830 button.colab-df-convert');\n",
              "        buttonEl.style.display =\n",
              "          google.colab.kernel.accessAllowed ? 'block' : 'none';\n",
              "\n",
              "        async function convertToInteractive(key) {\n",
              "          const element = document.querySelector('#df-f9dc310a-94fc-488e-aa07-3ae1e68a9830');\n",
              "          const dataTable =\n",
              "            await google.colab.kernel.invokeFunction('convertToInteractive',\n",
              "                                                     [key], {});\n",
              "          if (!dataTable) return;\n",
              "\n",
              "          const docLinkHtml = 'Like what you see? Visit the ' +\n",
              "            '<a target=\"_blank\" href=https://colab.research.google.com/notebooks/data_table.ipynb>data table notebook</a>'\n",
              "            + ' to learn more about interactive tables.';\n",
              "          element.innerHTML = '';\n",
              "          dataTable['output_type'] = 'display_data';\n",
              "          await google.colab.output.renderOutput(dataTable, element);\n",
              "          const docLink = document.createElement('div');\n",
              "          docLink.innerHTML = docLinkHtml;\n",
              "          element.appendChild(docLink);\n",
              "        }\n",
              "      </script>\n",
              "    </div>\n",
              "  </div>\n",
              "  "
            ]
          },
          "metadata": {},
          "execution_count": 12
        }
      ]
    },
    {
      "cell_type": "code",
      "source": [
        "mass=[230,300]\n",
        "df2[\"mi\"]=mass\n",
        "\n",
        "df2\n"
      ],
      "metadata": {
        "colab": {
          "base_uri": "https://localhost:8080/",
          "height": 112
        },
        "id": "1wn7T_lyX305",
        "outputId": "5b83c47b-510e-498e-8c91-9fd888a4efe0"
      },
      "execution_count": null,
      "outputs": [
        {
          "output_type": "execute_result",
          "data": {
            "text/plain": [
              "         body         T10  T10_10        T2   mi\n",
              "0   light Body (m1)  3.87   0.387  0.149769  230\n",
              "1  Heavy Body(m**2)  4.69   0.469  0.219961  300"
            ],
            "text/html": [
              "\n",
              "  <div id=\"df-3908a34c-d445-402b-8738-77b0e6db0edb\">\n",
              "    <div class=\"colab-df-container\">\n",
              "      <div>\n",
              "<style scoped>\n",
              "    .dataframe tbody tr th:only-of-type {\n",
              "        vertical-align: middle;\n",
              "    }\n",
              "\n",
              "    .dataframe tbody tr th {\n",
              "        vertical-align: top;\n",
              "    }\n",
              "\n",
              "    .dataframe thead th {\n",
              "        text-align: right;\n",
              "    }\n",
              "</style>\n",
              "<table border=\"1\" class=\"dataframe\">\n",
              "  <thead>\n",
              "    <tr style=\"text-align: right;\">\n",
              "      <th></th>\n",
              "      <th>body</th>\n",
              "      <th>T10</th>\n",
              "      <th>T10_10</th>\n",
              "      <th>T2</th>\n",
              "      <th>mi</th>\n",
              "    </tr>\n",
              "  </thead>\n",
              "  <tbody>\n",
              "    <tr>\n",
              "      <th>0</th>\n",
              "      <td>light Body (m1)</td>\n",
              "      <td>3.87</td>\n",
              "      <td>0.387</td>\n",
              "      <td>0.149769</td>\n",
              "      <td>230</td>\n",
              "    </tr>\n",
              "    <tr>\n",
              "      <th>1</th>\n",
              "      <td>Heavy Body(m**2)</td>\n",
              "      <td>4.69</td>\n",
              "      <td>0.469</td>\n",
              "      <td>0.219961</td>\n",
              "      <td>300</td>\n",
              "    </tr>\n",
              "  </tbody>\n",
              "</table>\n",
              "</div>\n",
              "      <button class=\"colab-df-convert\" onclick=\"convertToInteractive('df-3908a34c-d445-402b-8738-77b0e6db0edb')\"\n",
              "              title=\"Convert this dataframe to an interactive table.\"\n",
              "              style=\"display:none;\">\n",
              "        \n",
              "  <svg xmlns=\"http://www.w3.org/2000/svg\" height=\"24px\"viewBox=\"0 0 24 24\"\n",
              "       width=\"24px\">\n",
              "    <path d=\"M0 0h24v24H0V0z\" fill=\"none\"/>\n",
              "    <path d=\"M18.56 5.44l.94 2.06.94-2.06 2.06-.94-2.06-.94-.94-2.06-.94 2.06-2.06.94zm-11 1L8.5 8.5l.94-2.06 2.06-.94-2.06-.94L8.5 2.5l-.94 2.06-2.06.94zm10 10l.94 2.06.94-2.06 2.06-.94-2.06-.94-.94-2.06-.94 2.06-2.06.94z\"/><path d=\"M17.41 7.96l-1.37-1.37c-.4-.4-.92-.59-1.43-.59-.52 0-1.04.2-1.43.59L10.3 9.45l-7.72 7.72c-.78.78-.78 2.05 0 2.83L4 21.41c.39.39.9.59 1.41.59.51 0 1.02-.2 1.41-.59l7.78-7.78 2.81-2.81c.8-.78.8-2.07 0-2.86zM5.41 20L4 18.59l7.72-7.72 1.47 1.35L5.41 20z\"/>\n",
              "  </svg>\n",
              "      </button>\n",
              "      \n",
              "  <style>\n",
              "    .colab-df-container {\n",
              "      display:flex;\n",
              "      flex-wrap:wrap;\n",
              "      gap: 12px;\n",
              "    }\n",
              "\n",
              "    .colab-df-convert {\n",
              "      background-color: #E8F0FE;\n",
              "      border: none;\n",
              "      border-radius: 50%;\n",
              "      cursor: pointer;\n",
              "      display: none;\n",
              "      fill: #1967D2;\n",
              "      height: 32px;\n",
              "      padding: 0 0 0 0;\n",
              "      width: 32px;\n",
              "    }\n",
              "\n",
              "    .colab-df-convert:hover {\n",
              "      background-color: #E2EBFA;\n",
              "      box-shadow: 0px 1px 2px rgba(60, 64, 67, 0.3), 0px 1px 3px 1px rgba(60, 64, 67, 0.15);\n",
              "      fill: #174EA6;\n",
              "    }\n",
              "\n",
              "    [theme=dark] .colab-df-convert {\n",
              "      background-color: #3B4455;\n",
              "      fill: #D2E3FC;\n",
              "    }\n",
              "\n",
              "    [theme=dark] .colab-df-convert:hover {\n",
              "      background-color: #434B5C;\n",
              "      box-shadow: 0px 1px 3px 1px rgba(0, 0, 0, 0.15);\n",
              "      filter: drop-shadow(0px 1px 2px rgba(0, 0, 0, 0.3));\n",
              "      fill: #FFFFFF;\n",
              "    }\n",
              "  </style>\n",
              "\n",
              "      <script>\n",
              "        const buttonEl =\n",
              "          document.querySelector('#df-3908a34c-d445-402b-8738-77b0e6db0edb button.colab-df-convert');\n",
              "        buttonEl.style.display =\n",
              "          google.colab.kernel.accessAllowed ? 'block' : 'none';\n",
              "\n",
              "        async function convertToInteractive(key) {\n",
              "          const element = document.querySelector('#df-3908a34c-d445-402b-8738-77b0e6db0edb');\n",
              "          const dataTable =\n",
              "            await google.colab.kernel.invokeFunction('convertToInteractive',\n",
              "                                                     [key], {});\n",
              "          if (!dataTable) return;\n",
              "\n",
              "          const docLinkHtml = 'Like what you see? Visit the ' +\n",
              "            '<a target=\"_blank\" href=https://colab.research.google.com/notebooks/data_table.ipynb>data table notebook</a>'\n",
              "            + ' to learn more about interactive tables.';\n",
              "          element.innerHTML = '';\n",
              "          dataTable['output_type'] = 'display_data';\n",
              "          await google.colab.output.renderOutput(dataTable, element);\n",
              "          const docLink = document.createElement('div');\n",
              "          docLink.innerHTML = docLinkHtml;\n",
              "          element.appendChild(docLink);\n",
              "        }\n",
              "      </script>\n",
              "    </div>\n",
              "  </div>\n",
              "  "
            ]
          },
          "metadata": {},
          "execution_count": 13
        }
      ]
    },
    {
      "cell_type": "code",
      "source": [
        "import seaborn as sns \n",
        "\n",
        "cm=sns.light_palette(\"black\",as_cmap=True)\n",
        "\n",
        "b=df2.style.background_gradient(cmap=cm)\n",
        "b"
      ],
      "metadata": {
        "id": "k4Kbs3PH24HR",
        "outputId": "2f31e07e-dca5-496d-84a2-7fa49c77a4ca",
        "colab": {
          "base_uri": "https://localhost:8080/",
          "height": 112
        }
      },
      "execution_count": null,
      "outputs": [
        {
          "output_type": "execute_result",
          "data": {
            "text/plain": [
              "<pandas.io.formats.style.Styler at 0x7f7ba36aa8c0>"
            ],
            "text/html": [
              "<style type=\"text/css\">\n",
              "#T_7df1c_row0_col1, #T_7df1c_row0_col2, #T_7df1c_row0_col3, #T_7df1c_row0_col4 {\n",
              "  background-color: #f1f1f1;\n",
              "  color: #000000;\n",
              "}\n",
              "#T_7df1c_row1_col1, #T_7df1c_row1_col2, #T_7df1c_row1_col3, #T_7df1c_row1_col4 {\n",
              "  background-color: #000000;\n",
              "  color: #f1f1f1;\n",
              "}\n",
              "</style>\n",
              "<table id=\"T_7df1c\" class=\"dataframe\">\n",
              "  <thead>\n",
              "    <tr>\n",
              "      <th class=\"blank level0\" >&nbsp;</th>\n",
              "      <th id=\"T_7df1c_level0_col0\" class=\"col_heading level0 col0\" >body      </th>\n",
              "      <th id=\"T_7df1c_level0_col1\" class=\"col_heading level0 col1\" >T10</th>\n",
              "      <th id=\"T_7df1c_level0_col2\" class=\"col_heading level0 col2\" >T10_10</th>\n",
              "      <th id=\"T_7df1c_level0_col3\" class=\"col_heading level0 col3\" >T2</th>\n",
              "      <th id=\"T_7df1c_level0_col4\" class=\"col_heading level0 col4\" >mi</th>\n",
              "    </tr>\n",
              "  </thead>\n",
              "  <tbody>\n",
              "    <tr>\n",
              "      <th id=\"T_7df1c_level0_row0\" class=\"row_heading level0 row0\" >0</th>\n",
              "      <td id=\"T_7df1c_row0_col0\" class=\"data row0 col0\" >light Body (m1)</td>\n",
              "      <td id=\"T_7df1c_row0_col1\" class=\"data row0 col1\" >3.870000</td>\n",
              "      <td id=\"T_7df1c_row0_col2\" class=\"data row0 col2\" >0.387000</td>\n",
              "      <td id=\"T_7df1c_row0_col3\" class=\"data row0 col3\" >0.149769</td>\n",
              "      <td id=\"T_7df1c_row0_col4\" class=\"data row0 col4\" >230</td>\n",
              "    </tr>\n",
              "    <tr>\n",
              "      <th id=\"T_7df1c_level0_row1\" class=\"row_heading level0 row1\" >1</th>\n",
              "      <td id=\"T_7df1c_row1_col0\" class=\"data row1 col0\" >Heavy Body(m**2)</td>\n",
              "      <td id=\"T_7df1c_row1_col1\" class=\"data row1 col1\" >4.690000</td>\n",
              "      <td id=\"T_7df1c_row1_col2\" class=\"data row1 col2\" >0.469000</td>\n",
              "      <td id=\"T_7df1c_row1_col3\" class=\"data row1 col3\" >0.219961</td>\n",
              "      <td id=\"T_7df1c_row1_col4\" class=\"data row1 col4\" >300</td>\n",
              "    </tr>\n",
              "  </tbody>\n",
              "</table>\n"
            ]
          },
          "metadata": {},
          "execution_count": 14
        }
      ]
    },
    {
      "cell_type": "code",
      "source": [
        "#table 3"
      ],
      "metadata": {
        "id": "fKscNhrBYVSF"
      },
      "execution_count": null,
      "outputs": []
    },
    {
      "cell_type": "code",
      "source": [
        "import matplotlib.pyplot as plt\n",
        "import pandas as pd\n",
        "data3 = {'W (dyne)' : [100000 , 250000], 'mg (g)': [102.040 , 225.102]}\n",
        "df3 = pd.DataFrame(data3)\n",
        "print (df3)"
      ],
      "metadata": {
        "colab": {
          "base_uri": "https://localhost:8080/"
        },
        "id": "U1eV3C_EYVz7",
        "outputId": "6d9c2cbf-1ef6-4001-abd9-7482663983a4"
      },
      "execution_count": null,
      "outputs": [
        {
          "output_type": "stream",
          "name": "stdout",
          "text": [
            "   W (dyne)   mg (g)\n",
            "0    100000  102.040\n",
            "1    250000  225.102\n"
          ]
        }
      ]
    },
    {
      "cell_type": "code",
      "source": [
        "import seaborn as sns \n",
        "\n",
        "cm=sns.light_palette(\"pink\",as_cmap=True)\n",
        "\n",
        "b=df3.style.background_gradient(cmap=cm)\n",
        "b"
      ],
      "metadata": {
        "colab": {
          "base_uri": "https://localhost:8080/",
          "height": 112
        },
        "id": "0_xEO7LdYV5p",
        "outputId": "2295bd61-c769-4da9-e82c-2e821fb9031e"
      },
      "execution_count": null,
      "outputs": [
        {
          "output_type": "execute_result",
          "data": {
            "text/plain": [
              "<pandas.io.formats.style.Styler at 0x7f7b9be1e800>"
            ],
            "text/html": [
              "<style type=\"text/css\">\n",
              "#T_63c9b_row0_col0, #T_63c9b_row0_col1 {\n",
              "  background-color: #f3f0f0;\n",
              "  color: #000000;\n",
              "}\n",
              "#T_63c9b_row1_col0, #T_63c9b_row1_col1 {\n",
              "  background-color: #ffc0cb;\n",
              "  color: #000000;\n",
              "}\n",
              "</style>\n",
              "<table id=\"T_63c9b\" class=\"dataframe\">\n",
              "  <thead>\n",
              "    <tr>\n",
              "      <th class=\"blank level0\" >&nbsp;</th>\n",
              "      <th id=\"T_63c9b_level0_col0\" class=\"col_heading level0 col0\" >W (dyne)</th>\n",
              "      <th id=\"T_63c9b_level0_col1\" class=\"col_heading level0 col1\" >mg (g)</th>\n",
              "    </tr>\n",
              "  </thead>\n",
              "  <tbody>\n",
              "    <tr>\n",
              "      <th id=\"T_63c9b_level0_row0\" class=\"row_heading level0 row0\" >0</th>\n",
              "      <td id=\"T_63c9b_row0_col0\" class=\"data row0 col0\" >100000</td>\n",
              "      <td id=\"T_63c9b_row0_col1\" class=\"data row0 col1\" >102.040000</td>\n",
              "    </tr>\n",
              "    <tr>\n",
              "      <th id=\"T_63c9b_level0_row1\" class=\"row_heading level0 row1\" >1</th>\n",
              "      <td id=\"T_63c9b_row1_col0\" class=\"data row1 col0\" >250000</td>\n",
              "      <td id=\"T_63c9b_row1_col1\" class=\"data row1 col1\" >225.102000</td>\n",
              "    </tr>\n",
              "  </tbody>\n",
              "</table>\n"
            ]
          },
          "metadata": {},
          "execution_count": 17
        }
      ]
    },
    {
      "cell_type": "code",
      "source": [
        "import matplotlib.pyplot as plt\n",
        "import numpy as np\n",
        "\n",
        "xpoints = np.array([150,200,300,400,500,600])\n",
        "ypoints = np.array([0.14,0.2,0.23,0.27,0.36,0.49])\n",
        "plt.xlabel(\"Mass(g)\")\n",
        "plt.ylabel(\"Time(s^2)\")\n",
        "plt.title(\"Mass vs time^2\", fontsize=20)\n",
        "plt.plot(xpoints, ypoints,'o', ms=10, mec='hotpink', mfc='hotpink')\n",
        "plt.show()"
      ],
      "metadata": {
        "id": "bQU3qbS8Iwv9",
        "outputId": "a887b2a4-f071-4e1d-fc21-0ee2b22abbb4",
        "colab": {
          "base_uri": "https://localhost:8080/",
          "height": 480
        }
      },
      "execution_count": null,
      "outputs": [
        {
          "output_type": "display_data",
          "data": {
            "text/plain": [
              "<Figure size 640x480 with 1 Axes>"
            ],
            "image/png": "[encoded data removed]"
          },
          "metadata": {}
        }
      ]
    },
    {
      "cell_type": "code",
      "source": [
        "xpoints = np.array([100, 600])\n",
        "ypoints = np.array([0, 0.50])\n",
        "plt.xlabel(\"Mass(g)\")\n",
        "plt.ylabel(\"Time(s^2)\")\n",
        "plt.title(\"Mass vs time^2\", fontsize=20)\n",
        "plt.plot(xpoints, ypoints, color='hotpink')\n",
        "plt.show()"
      ],
      "metadata": {
        "id": "_uvDTlbdPkam",
        "outputId": "3e3f9653-acce-4583-9aab-c4640353b95c",
        "colab": {
          "base_uri": "https://localhost:8080/",
          "height": 480
        }
      },
      "execution_count": null,
      "outputs": [
        {
          "output_type": "display_data",
          "data": {
            "text/plain": [
              "<Figure size 640x480 with 1 Axes>"
            ],
            "image/png": "[encoded data removed]"
          },
          "metadata": {}
        }
      ]
    },
    {
      "cell_type": "code",
      "source": [
        "#find the ratio mi1/mi2\n",
        "mi1=150\n",
        "mi2=400\n",
        "ratio= mi1/mi2\n",
        "r=round(ratio,3)\n",
        "print(r,\"g\")"
      ],
      "metadata": {
        "id": "bQaGWKp7Sq55",
        "outputId": "23546cd6-fb41-4d02-dce6-f9043cc9a1d5",
        "colab": {
          "base_uri": "https://localhost:8080/"
        }
      },
      "execution_count": null,
      "outputs": [
        {
          "output_type": "stream",
          "name": "stdout",
          "text": [
            "0.375 g\n"
          ]
        }
      ]
    },
    {
      "cell_type": "code",
      "source": [
        "#find the ratio mg1/mg2\n",
        "mi1=102.040\n",
        "mi2=225.102\n",
        "ratio2= mi1/mi2\n",
        "r2=round(ratio2,3)\n",
        "print(r2,\"g\")"
      ],
      "metadata": {
        "id": "pHvipOV1adUv",
        "outputId": "dd014539-9b84-4f77-a692-8d420782d994",
        "colab": {
          "base_uri": "https://localhost:8080/"
        }
      },
      "execution_count": null,
      "outputs": [
        {
          "output_type": "stream",
          "name": "stdout",
          "text": [
            "0.453 g\n"
          ]
        }
      ]
    }
  ]
}